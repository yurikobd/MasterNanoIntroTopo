{
 "cells": [
  {
   "cell_type": "markdown",
   "metadata": {
    "collapsed": false
   },
   "source": [
    "# SSH Model: easy calculations using Kwant"
   ]
  },
  {
   "cell_type": "code",
   "execution_count": 0,
   "metadata": {
    "collapsed": false
   },
   "outputs": [
   ],
   "source": [
    "## First some standar imports\n",
    "import numpy as np\n",
    "import matplotlib\n",
    "import kwant\n",
    "import kwant.continuum\n",
    "from matplotlib import pyplot as plt\n",
    "from ipywidgets import *\n",
    "import tinyarray\n",
    "%matplotlib inline\n",
    "plt.rcParams.update({'font.size': 12})"
   ]
  },
  {
   "cell_type": "code",
   "execution_count": 0,
   "metadata": {
    "collapsed": false
   },
   "outputs": [
   ],
   "source": [
    "# Let's define the Pauli matrices\n",
    "sigma_0 = tinyarray.array([[1, 0], [0, 1]])\n",
    "sigma_x = tinyarray.array([[0, 1], [1, 0]])\n",
    "sigma_y = tinyarray.array([[0, -1j], [1j, 0]])\n",
    "sigma_z = tinyarray.array([[1, 0], [0, -1]])"
   ]
  },
  {
   "cell_type": "markdown",
   "metadata": {
    "collapsed": false
   },
   "source": [
    "##### - Let's start by defining the system\n",
    "\n",
    "\n",
    "It is given by the tight binding Hamiltonian described in class:\n",
    "\n",
    "\\begin{equation}\n",
    "    H = v \\sum _{n = 1}^N |{n}><{n}|\\otimes\\sigma_x\n",
    "    + w \\sum_{n = 1}^{N-1} \\left( |{n+1}><{n}| \\otimes \\frac{\\sigma_x+ i \\sigma_y}{2} + h.c.\\right)~.\n",
    "\\end{equation}"
   ]
  },
  {
   "cell_type": "code",
   "execution_count": 0,
   "metadata": {
    "collapsed": false
   },
   "outputs": [
   ],
   "source": [
    "def SSH_chain(L=None):\n",
    "    lat = kwant.lattice.chain(norbs=2) # It is a chain with two orbitals\n",
    "    if L is None: # This is for the bulk calculatins, we consider an inginite system with symmetry in the direction given by the vector [-1]\n",
    "        syst = kwant.Builder(kwant.TranslationalSymmetry((-1,)))\n",
    "        L = 1\n",
    "    else: #Otherwise, we initialize a Builder without any symmetry\n",
    "        syst = kwant.Builder()\n",
    "    # The onsite contribution\n",
    "    def onsite(site, v):\n",
    "        return (v *(sigma_x))\n",
    "    # we build the system with the former onsite term\n",
    "    for x in range(L):\n",
    "        syst[lat(x)] = onsite\n",
    "    # Now we define the hoppings\n",
    "    def hop(site1, site2, w):\n",
    "        return (w*( sigma_x + 1j *sigma_y)/2)\n",
    "    #and we implement such hoppings in the chain \n",
    "    syst[kwant.HoppingKind((1,), lat)] = hop\n",
    "    return syst"
   ]
  },
  {
   "cell_type": "code",
   "execution_count": 0,
   "metadata": {
    "collapsed": false
   },
   "outputs": [
   ],
   "source": [
    "# Let's build a small system, with 25 sites\n",
    "L = 25; \n",
    "syst = SSH_chain(L=L).finalized();\n",
    "kwant.plot(syst);\n",
    "\n",
    "#This is the density operator of the system, we will use it in the following for computing the wavefunctions\n",
    "rho = kwant.operator.Density(syst) "
   ]
  },
  {
   "cell_type": "markdown",
   "metadata": {
    "collapsed": false
   },
   "source": [
    "##### - Now, let's define the vector d(k)\n",
    "\\begin{equation}\n",
    "    H (k) = d_0(k) \\sigma_0 + \\vec{d}(k) \\cdot {\\vec{\\sigma}}~,\n",
    "\\end{equation}"
   ]
  },
  {
   "cell_type": "code",
   "execution_count": 0,
   "metadata": {
    "collapsed": false
   },
   "outputs": [
   ],
   "source": [
    "# This second function is for the vector $d$ \n",
    "def d_func(k, params):\n",
    "    v = params['v']\n",
    "    w = params['w']\n",
    "    return [0, v + w*np.cos(k), w*np.sin(k), 0]"
   ]
  },
  {
   "cell_type": "markdown",
   "metadata": {
    "collapsed": false
   },
   "source": [
    "## Bulk properties:"
   ]
  },
  {
   "cell_type": "code",
   "execution_count": 0,
   "metadata": {
    "collapsed": false
   },
   "outputs": [
   ],
   "source": [
    "def plot_path(params, fig = None):\n",
    "    # The path of the vector d in the BZ is given by:\n",
    "    ks = np.linspace(-np.pi, np.pi)\n",
    "    ds = [d_func(k, params = params) for k in ks]\n",
    "    # The bulk system is obtained setting the translational symmetry:\n",
    "    syst_bulk = SSH_chain(L=None).finalized()\n",
    "    # Just plot it all together, by on side the vecto d, by the other the bands of the bulk material\n",
    "    if fig == None:\n",
    "        fig = plt.figure(figsize=(7, 3))\n",
    "        ax1 = fig.add_subplot(121);\n",
    "        ax2 = fig.add_subplot(122)\n",
    "    else: \n",
    "        ax1, ax2 = fig\n",
    "    #############\n",
    "    ax1.set_xlabel(r'$d_x$'); ax1.set_ylabel(r'$d_y$');  ax1.set_aspect('equal');\n",
    "    ax1.plot(0,0,'ko', markersize = 5, label= '(0,0)')\n",
    "    if np.round(params['w'], 10) ==0:\n",
    "        ax1.plot(ds[0][1],ds[0][2],'o', markersize = 5, label= r'$\\mathbf{d}(k)$')\n",
    "    else:\n",
    "        ax1.plot(np.array(ds).T[1], np.array(ds).T[2], label= r'$\\mathbf{d}(k)$', linewidth= 2);\n",
    "    ax1.grid(which = 'both'); ax1.set_xlim(-2,2); ax1.set_ylim(-2,2);\n",
    "    ax1.legend(loc = 'upper center')\n",
    "    ###########\n",
    "    bands = kwant.plotter.bands(syst_bulk, params= params, ax = ax2);\n",
    "    ax2.set_xlabel('k'); ax2.set_ylabel('Energy'); \n",
    "    ax2.set_title('v = {}, w = {}'.format(params['v'], params['w']))\n",
    "    if fig == None:\n",
    "        plt.tight_layout(pad = 2.5);\n",
    "    \n"
   ]
  },
  {
   "cell_type": "code",
   "execution_count": 0,
   "metadata": {
    "collapsed": false
   },
   "outputs": [
   ],
   "source": [
   ]
  },
  {
   "cell_type": "code",
   "execution_count": 0,
   "metadata": {
    "collapsed": false
   },
   "outputs": [
   ],
   "source": [
    "# Let's plot some representative values. \n",
    "params = dict(v= 1., w=0.); f1 = plot_path(params); \n",
    "params = dict(v= 1., w=0.5); f2 = plot_path(params); \n",
    "params = dict(v= 1., w=1.); f3 = plot_path(params);\n",
    "params = dict(v= 0.5, w=1.); f4 = plot_path(params); \n",
    "params = dict(v= 0., w=1.); f5 = plot_path(params); \n"
   ]
  },
  {
   "cell_type": "code",
   "execution_count": 0,
   "metadata": {
    "collapsed": false
   },
   "outputs": [
   ],
   "source": [
    "fig, ((ax1a, ax2a, ax3a, ax4a, ax5a), (ax1b, ax2b, ax3b, ax4b, ax5b)) = plt.subplots(2, 5, sharey=True, figsize = ((12,6)) )\n",
    "params = dict(v= 1., w=0.0); plot_path(params, fig= [ax1a, ax1b]); \n",
    "params = dict(v= 1., w=0.5); plot_path(params, fig= [ax2a, ax2b]); \n",
    "params = dict(v= 1., w=1.0); plot_path(params, fig= [ax3a, ax3b]); \n",
    "params = dict(v= 0.5, w=1.); plot_path(params, fig= [ax4a, ax4b]); \n",
    "params = dict(v= 0.0, w=1.); plot_path(params, fig= [ax5a, ax5b]);\n",
    "plt.tight_layout(w_pad=1.5);\n",
    "plt.savefig('SSH_Bulk.pdf', transparent=True)"
   ]
  },
  {
   "cell_type": "code",
   "execution_count": 0,
   "metadata": {
    "collapsed": false
   },
   "outputs": [
   ],
   "source": [
    "# In an interactive Plot:\n",
    "\n",
    "def update_plot_path(v = 1., w = 1.):\n",
    "    params = dict(v= v, w=w)\n",
    "    plot_path(params)\n",
    "\n",
    "interact(update_plot_path, v= widgets.FloatSlider(min=0.0, max=1.0, step=0.25, value=0) , w =widgets.FloatSlider(min=0.0, max=1.0, step=0.25, value=1.));"
   ]
  },
  {
   "cell_type": "markdown",
   "metadata": {
    "collapsed": false
   },
   "source": [
    "#### Finite system: edge states\n",
    "Now we fix the w=1 and let's see how the surface states arise in the finite system"
   ]
  },
  {
   "cell_type": "code",
   "execution_count": 0,
   "metadata": {
    "collapsed": false
   },
   "outputs": [
   ],
   "source": [
    "# We diagonalize the prolem for a range of v = (0, 3.0)\n",
    "vs = np.linspace(1e-14, 3, 21)\n",
    "ws = np.ones((len(vs),1))\n",
    "evs = []; evecs = []; \n",
    "for j in range(len(vs)):\n",
    "    params = dict(v= vs[j], w= ws[j])\n",
    "    ham = syst.hamiltonian_submatrix(params = params)\n",
    "    ev, evec = np.linalg.eigh(ham)\n",
    "    evs.append(ev); evecs.append(evec)"
   ]
  },
  {
   "cell_type": "code",
   "execution_count": 0,
   "metadata": {
    "collapsed": false
   },
   "outputs": [
   ],
   "source": [
    "# A couple of functions to plot the states\n",
    "def plot_density(ev, evec, ax):\n",
    "    j = [L, L-1, L+1, L-2]; x = np.arange(0, L); colors = ['red', 'red', 'gray', 'gray']; k = 0;\n",
    "    for j in j:\n",
    "        density = rho(evec[:,j])\n",
    "        ax.fill_between(x, density, label = 'Energy ~ {}'.format(np.round(ev[j], 2)), color = colors[k], alpha = 0.6); k+= 1;\n",
    "    plt.legend();\n",
    "def plot_states(j=0):\n",
    "    fig = plt.figure(figsize=(8, 4))\n",
    "    ax1 = fig.add_subplot(121); \n",
    "    ax1.plot(vs, evs);\n",
    "    ax1.axvline(x = vs[j], color = 'k');\n",
    "    ax1.set_ylabel(r'Energy'); ax1.set_xlabel('v, (w = 1)'); \n",
    "\n",
    "    ax2 = fig.add_subplot(122); \n",
    "    plot_density(evs[j], evecs[j], ax= ax2)\n",
    "    ax2.set_ylabel(r'$|\\psi|^2$'); ax2.set_xlabel('x');\n",
    "    plt.tight_layout(w_pad=2.5);\n",
    "    plt.show();"
   ]
  },
  {
   "cell_type": "markdown",
   "metadata": {
    "collapsed": false
   },
   "source": [
    "We respresent the energies a function of the value of v. In the right hand side we plot the wavefunctions for the four lowers states in energy"
   ]
  },
  {
   "cell_type": "code",
   "execution_count": 0,
   "metadata": {
    "collapsed": false
   },
   "outputs": [
   ],
   "source": [
    "interact(plot_states, j=widgets.IntSlider(min=0, max=len(vs)-1, step=1, value=0));"
   ]
  },
  {
   "cell_type": "code",
   "execution_count": 0,
   "metadata": {
    "collapsed": false
   },
   "outputs": [
   ],
   "source": [
   ]
  }
 ],
 "metadata": {
  "kernelspec": {
   "display_name": "Python 3 (Anaconda 2019)",
   "env": {
    "LD_LIBRARY_PATH": "/ext/anaconda-2019.03/lib",
    "PROJ_LIB": "/ext/anaconda-2019.03/share/proj",
    "PYTHONHOME": "/ext/anaconda-2019.03/lib/python3.7",
    "PYTHONPATH": "/ext/anaconda-2019.03/lib/python3.7:/ext/anaconda-2019.03/lib/python3.7/site-packages"
   },
   "language": "python",
   "metadata": {
    "cocalc": {
     "description": "Python/R distribution for data science",
     "priority": 5,
     "url": "https://www.anaconda.com/distribution/"
    }
   },
   "name": "anaconda2019"
  },
  "language_info": {
   "codemirror_mode": {
    "name": "ipython",
    "version": 3
   },
   "file_extension": ".py",
   "mimetype": "text/x-python",
   "name": "python",
   "nbconvert_exporter": "python",
   "pygments_lexer": "ipython3",
   "version": "3.7.3"
  }
 },
 "nbformat": 4,
 "nbformat_minor": 0
}